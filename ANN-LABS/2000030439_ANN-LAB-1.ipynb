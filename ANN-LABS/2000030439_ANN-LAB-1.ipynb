{
 "cells": [
  {
   "cell_type": "markdown",
   "id": "606d9e33",
   "metadata": {},
   "source": [
    "# Name:KALYANAM VENKATA SREE SAI\n",
    "# ID:2000030439\n",
    "# SEC:01\n",
    "# CourseCode:20cs3026RA"
   ]
  },
  {
   "cell_type": "code",
   "execution_count": 1,
   "id": "f4f6f856",
   "metadata": {},
   "outputs": [
    {
     "name": "stdout",
     "output_type": "stream",
     "text": [
      "Random starting synaptic weights:\n",
      "[[-0.16595599]\n",
      " [ 0.44064899]\n",
      " [-0.99977125]]\n",
      "New synaptic weights after training:\n",
      "[[2.25398875]\n",
      " [2.47194872]\n",
      " [9.40867424]]\n",
      "Consider new situation [1,0,0] -> ?\n",
      "[0.90499404]\n"
     ]
    }
   ],
   "source": [
    "from numpy import exp, array, random, dot\n",
    "\n",
    "# Define neural network class\n",
    "class NeuralNetwork():\n",
    "    def __init__(self):\n",
    "        #Seed random number generator\n",
    "        random.seed(1)\n",
    "\n",
    "        # Model single neuron with 3 inputs and 1 output\n",
    "        # Assign random weights to a 3 x 1 matrix with values between -1 and 1\n",
    "        self.synaptic_weights = 2 * random.random((3,1)) - 1\n",
    "\n",
    "    # Define sigmoid function\n",
    "    def __sigmoid(self, x):\n",
    "        return 1 / (1 + exp(-x))\n",
    "\n",
    "    # Gradient of the sigmoid curve\n",
    "    def __sigmoid_derivative(self, x):\n",
    "        return x * (1 - x)\n",
    "\n",
    "    def train(self, training_set_inputs, training_set_outputs, number_of_training_iterations):\n",
    "        for iteration in range(number_of_training_iterations):\n",
    "             # Pass the trianing set through out neural network\n",
    "            output = self.predict(training_set_inputs)\n",
    "\n",
    "            # Calculate the error\n",
    "            error = training_set_outputs - output\n",
    "\n",
    "            # Multiply the error by the 1input and again by the gradient of the sigmoid curve\n",
    "            adjustment = dot(training_set_inputs.T, self.__sigmoid_derivative(output))\n",
    "\n",
    "            # Adjust the weights\n",
    "            self.synaptic_weights += adjustment\n",
    "\n",
    "    def predict(self, inputs):\n",
    "        # Pass inputs through our neural network\n",
    "        return self.__sigmoid(dot(inputs, self.synaptic_weights))\n",
    "\n",
    "    # The neural network thinks\n",
    "    def think(self, inputs):\n",
    "        # Pass inputs through our neural network\n",
    "        return self.__sigmoid(dot(inputs, self.synaptic_weights))\n",
    "\n",
    "if __name__ == '__main__':\n",
    "\n",
    "    # Initialize a single neuron neural network\n",
    "    neural_network = NeuralNetwork()\n",
    "\n",
    "    print('Random starting synaptic weights:')\n",
    "    print(neural_network.synaptic_weights)\n",
    "\n",
    "    # The training set - we will have 4 examples: 3 inputs, 1 output\n",
    "    training_set_inputs = array([[0,0,1], [1,1,1], [1,0,1], [0,1,1]])\n",
    "    training_set_outputs = array([[0,1,1,0]]).T\n",
    "\n",
    "    # Train neural network using training data\n",
    "    neural_network.train(training_set_inputs, training_set_outputs, 10000)\n",
    "\n",
    "    print('New synaptic weights after training:')\n",
    "    print(neural_network.synaptic_weights)\n",
    "\n",
    "    # Test neural network with new data\n",
    "    print('Consider new situation [1,0,0] -> ?')\n",
    "    print(neural_network.think(array([1,0,0])))\n",
    "    "
   ]
  },
  {
   "cell_type": "code",
   "execution_count": null,
   "id": "44207192",
   "metadata": {},
   "outputs": [],
   "source": []
  }
 ],
 "metadata": {
  "kernelspec": {
   "display_name": "Python 3 (ipykernel)",
   "language": "python",
   "name": "python3"
  },
  "language_info": {
   "codemirror_mode": {
    "name": "ipython",
    "version": 3
   },
   "file_extension": ".py",
   "mimetype": "text/x-python",
   "name": "python",
   "nbconvert_exporter": "python",
   "pygments_lexer": "ipython3",
   "version": "3.9.13"
  }
 },
 "nbformat": 4,
 "nbformat_minor": 5
}
