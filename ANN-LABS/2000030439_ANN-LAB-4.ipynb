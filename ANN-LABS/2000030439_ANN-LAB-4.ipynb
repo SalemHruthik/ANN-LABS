{
 "cells": [
  {
   "cell_type": "markdown",
   "id": "83f0a6b8",
   "metadata": {},
   "source": [
    "# Artificial Neural Networks \n",
    "# Lab4"
   ]
  },
  {
   "cell_type": "code",
   "execution_count": 1,
   "id": "8452f9bb",
   "metadata": {},
   "outputs": [],
   "source": [
    "# Multi layer perceptron\n",
    "from sklearn.datasets import load_iris\n",
    "\n",
    "iris = load_iris()"
   ]
  },
  {
   "cell_type": "code",
   "execution_count": 2,
   "id": "4e3e1d10",
   "metadata": {},
   "outputs": [],
   "source": [
    "# splitting into train and test datasets\n",
    "\n",
    "from sklearn.model_selection import train_test_split\n",
    "datasets = train_test_split(iris.data, iris.target,\n",
    "                            test_size=0.2)\n",
    "\n",
    "train_data, test_data, train_labels, test_labels = datasets"
   ]
  },
  {
   "cell_type": "code",
   "execution_count": 3,
   "id": "91e75967",
   "metadata": {},
   "outputs": [
    {
     "name": "stdout",
     "output_type": "stream",
     "text": [
      "[[-0.1170259  -0.48998089  0.69636606  1.53010476]\n",
      " [ 0.12509665 -0.03241119  0.52093444  0.72830314]\n",
      " [-0.48020972 -1.17633545  0.0531168   0.06013512]]\n"
     ]
    }
   ],
   "source": [
    "# scaling the data\n",
    "from sklearn.preprocessing import StandardScaler\n",
    "scaler = StandardScaler()\n",
    "\n",
    "# we fit the train data\n",
    "scaler.fit(train_data)\n",
    "\n",
    "# scaling the train data\n",
    "train_data = scaler.transform(train_data)\n",
    "test_data = scaler.transform(test_data)\n",
    "\n",
    "print(train_data[:3])"
   ]
  },
  {
   "cell_type": "code",
   "execution_count": 4,
   "id": "41e11123",
   "metadata": {},
   "outputs": [
    {
     "name": "stderr",
     "output_type": "stream",
     "text": [
      "C:\\Users\\hp\\anaconda3\\lib\\site-packages\\sklearn\\neural_network\\_multilayer_perceptron.py:614: ConvergenceWarning: Stochastic Optimizer: Maximum iterations (1000) reached and the optimization hasn't converged yet.\n",
      "  warnings.warn(\n"
     ]
    },
    {
     "data": {
      "text/plain": [
       "MLPClassifier(hidden_layer_sizes=(10, 5), max_iter=1000)"
      ]
     },
     "execution_count": 4,
     "metadata": {},
     "output_type": "execute_result"
    }
   ],
   "source": [
    "# Training the Model\n",
    "from sklearn.neural_network import MLPClassifier\n",
    "# creating an classifier from the model:\n",
    "mlp = MLPClassifier(hidden_layer_sizes=(10, 5), max_iter=1000)\n",
    "\n",
    "# let's fit the training data to our model\n",
    "mlp.fit(train_data, train_labels)"
   ]
  },
  {
   "cell_type": "code",
   "execution_count": 5,
   "id": "81693055",
   "metadata": {},
   "outputs": [
    {
     "name": "stdout",
     "output_type": "stream",
     "text": [
      "0.9833333333333333\n",
      "1.0\n"
     ]
    }
   ],
   "source": [
    "from sklearn.metrics import accuracy_score\n",
    "\n",
    "predictions_train = mlp.predict(train_data)\n",
    "print(accuracy_score(predictions_train, train_labels))\n",
    "predictions_test = mlp.predict(test_data)\n",
    "print(accuracy_score(predictions_test, test_labels))"
   ]
  }
 ],
 "metadata": {
  "kernelspec": {
   "display_name": "Python 3 (ipykernel)",
   "language": "python",
   "name": "python3"
  },
  "language_info": {
   "codemirror_mode": {
    "name": "ipython",
    "version": 3
   },
   "file_extension": ".py",
   "mimetype": "text/x-python",
   "name": "python",
   "nbconvert_exporter": "python",
   "pygments_lexer": "ipython3",
   "version": "3.9.13"
  }
 },
 "nbformat": 4,
 "nbformat_minor": 5
}
